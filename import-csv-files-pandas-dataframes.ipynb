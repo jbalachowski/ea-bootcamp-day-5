{
 "cells": [
  {
   "cell_type": "markdown",
   "metadata": {},
   "source": [
    "## Pandas Dataframes\n",
    "\n",
    "In the lesson introducing `pandas dataframes`, you learned that these data structures that are inherently tabular, meaning that all values (or cells) have a row index and a column index, even if the data only has one row and/or one column. \n",
    "\n",
    "Each column in a `pandas dataframe` can have a labeled name (i.e. header name) and can contain a different type of data from its neighboring columns. \n",
    "\n",
    "You also learned that due to its inherent tabular structure, you can query and run calculations on `pandas dataframes` across an entire row, an entire column, or a specific cell or series of cells based on either location and attribute values.\n",
    "\n",
    "In this lesson, you will learn how to import tabular data from text files (.csv) into `pandas dataframes`, so you can take advantage of the benefits of working with `pandas dataframes`. \n",
    "\n",
    "\n",
    "## CSV Files For Tabular Data\n",
    "\n",
    "In this lesson, you will work with tabular data that orignate from comma delimited (.csv), or CSV files. As you learned in the lessons on `numpy arrays`, CSV files are a very common file format used to collect and organize scientific data.   \n",
    "\n",
    "You also learned that unlike plain-text files which simply list out the values on separate lines without any symbols or delimiters, CSV files use commas (or some other delimiter like tab spaces or semi-colons) to indicate separate values. \n",
    "\n",
    "CSV files also support labeled names for the columns, referred to as headers. This means that CSV files can easily support multiple columns of related data. \n",
    "\n",
    "Furthermore, these columns are data do not all have to be of the same type (i.e. all numeric or text strings).\n",
    "\n",
    "For example, data for the average monthly precipitation data for Boulder, CO and the month names can actually be stored together in a comma delimited (.csv) file.\n",
    "\n",
    "```python\n",
    "months, precip\n",
    "Jan, 0.70\n",
    "Feb, 0.75\n",
    "Mar, 1.85\n",
    "Apr, 2.93\n",
    "May, 3.05\n",
    "June, 2.02\n",
    "July, 1.93\n",
    "Aug, 1.62\n",
    "Sept, 1.84\n",
    "Oct, 1.31\n",
    "Nov, 1.39\n",
    "Dec, 0.84\n",
    "```\n",
    "\n",
    "Due to its tabular structure with headers, CSV files are very useful for collecting and organizing datasets that contain related data of different types and across multiple locations and/or timeframes. \n",
    " \n",
    "In this lesson, you will import tabular data from:\n",
    "\n",
    "* a csv file containing the average monthly precipitation data for Boulder, CO and the month and season names\n",
    "\n",
    "\n",
    "## Begin Writing Your Code\n",
    "\n",
    "From previous lessons, you know how to import the necessary `Python` packages to set your working directory and download the needed datasets using the `os` and `urllib` packages. \n",
    "\n",
    "To work with `pandas dataframes`, you will also need to import the `pandas` package with the alias `pd`. Begin by reviewing these tasks.\n",
    "\n",
    "### Import Packages"
   ]
  },
  {
   "cell_type": "code",
   "execution_count": 1,
   "metadata": {},
   "outputs": [],
   "source": [
    "# opens console in separate window\n",
    "%qtconsole"
   ]
  },
  {
   "cell_type": "code",
   "execution_count": 2,
   "metadata": {},
   "outputs": [
    {
     "name": "stdout",
     "output_type": "stream",
     "text": [
      "import of packages successful\n"
     ]
    }
   ],
   "source": [
    "# import necessary Python packages\n",
    "import os\n",
    "import urllib.request\n",
    "import pandas as pd\n",
    "\n",
    "# print message after packages imported successfully\n",
    "print(\"import of packages successful\")"
   ]
  },
  {
   "cell_type": "markdown",
   "metadata": {},
   "source": [
    "### Set Working Directory\n",
    "\n",
    "Remember that you can check the current working directory using `os.getcwd()` and set the current working directory using `os.chdir()`."
   ]
  },
  {
   "cell_type": "code",
   "execution_count": 49,
   "metadata": {},
   "outputs": [
    {
     "data": {
      "text/plain": [
       "'/Users/jenniferbalachowski/earth-analytics-bootcamp'"
      ]
     },
     "execution_count": 49,
     "metadata": {},
     "output_type": "execute_result"
    }
   ],
   "source": [
    "# set the working directory to the `earth-analytics-bootcamp` directory\n",
    "# replace `jpalomino` with your username here and all paths in this lesson\n",
    "os.chdir(\"/Users/jenniferbalachowski/earth-analytics-bootcamp/\")\n",
    "\n",
    "#For Windows users, you may have to set the directory using the full path that Windows maintains for your user. For example:\n",
    "#os.chdir(\"C:/Users/Jenny Palomino/earth-analytics-bootcamp/\")\n",
    "\n",
    "#For Mac Users, you may have to set the directory using the full path that Mac maintains for your user. For example:\n",
    "#os.chdir(\"/Users/jpalomino/earth-analytics-bootcamp/\")\n",
    "\n",
    "# print the current working directory\n",
    "os.getcwd()"
   ]
  },
  {
   "cell_type": "markdown",
   "metadata": {},
   "source": [
    "### Download Data\n",
    "\n",
    "Recall that you can use the `urllib` package to download data from the Earth Lab `Figshare.com` repository.\n",
    "\n",
    "For this lesson, you will download a .csv file containing the average monthly precipitation data for Boulder, CO and the month and season names."
   ]
  },
  {
   "cell_type": "code",
   "execution_count": 51,
   "metadata": {},
   "outputs": [
    {
     "name": "stdout",
     "output_type": "stream",
     "text": [
      "datasets downloaded successfully\n"
     ]
    }
   ],
   "source": [
    "# use `urllib` download files from Earth Lab figshare repository\n",
    "\n",
    "# download .csv containing monthly average precipitation for Boulder, CO\n",
    "urllib.request.urlretrieve(url = \"https://ndownloader.figshare.com/files/12710618\", \n",
    "                           filename = \"data/avg-precip-months-seasons.csv\")\n",
    "\n",
    "# print message that data downloads were successful\n",
    "print(\"datasets downloaded successfully\")"
   ]
  },
  {
   "cell_type": "markdown",
   "metadata": {},
   "source": [
    "## Import Tabular Data Into Pandas Dataframes\n",
    "\n",
    "Using the `read_csv()` function from the `pandas` package, you can import tabular data from CSV files into `pandas dataframe` by specifying a parameter value for the file name (e.g. `pd.read_csv(\"filename.csv\")`). \n",
    "\n",
    "Remember that you gave `pandas` alias of `pd`, so you will use `pd` to call `pandas` functions. Be sure to update the path to the CSV file to your home directory. "
   ]
  },
  {
   "cell_type": "code",
   "execution_count": 52,
   "metadata": {},
   "outputs": [],
   "source": [
    "# import the monthly average precipitation values as a pandas dataframe\n",
    "avg_precip = pd.read_csv(\"/Users/jenniferbalachowski/earth-analytics-bootcamp/data/avg-precip-months-seasons.csv\")"
   ]
  },
  {
   "cell_type": "markdown",
   "metadata": {},
   "source": [
    "Recall from previous lessons that you can check the type of any data structure using `type(variablename)`.\n",
    "\n",
    "For `pandas dataframes`, you can also easily see the data by simply calling the name of the `pandas dataframe`. No `print()` function needed."
   ]
  },
  {
   "cell_type": "code",
   "execution_count": 53,
   "metadata": {},
   "outputs": [
    {
     "name": "stdout",
     "output_type": "stream",
     "text": [
      "<class 'pandas.core.frame.DataFrame'>\n"
     ]
    },
    {
     "data": {
      "text/html": [
       "<div>\n",
       "<style scoped>\n",
       "    .dataframe tbody tr th:only-of-type {\n",
       "        vertical-align: middle;\n",
       "    }\n",
       "\n",
       "    .dataframe tbody tr th {\n",
       "        vertical-align: top;\n",
       "    }\n",
       "\n",
       "    .dataframe thead th {\n",
       "        text-align: right;\n",
       "    }\n",
       "</style>\n",
       "<table border=\"1\" class=\"dataframe\">\n",
       "  <thead>\n",
       "    <tr style=\"text-align: right;\">\n",
       "      <th></th>\n",
       "      <th>months</th>\n",
       "      <th>precip</th>\n",
       "      <th>seasons</th>\n",
       "    </tr>\n",
       "  </thead>\n",
       "  <tbody>\n",
       "    <tr>\n",
       "      <th>0</th>\n",
       "      <td>Jan</td>\n",
       "      <td>0.70</td>\n",
       "      <td>Winter</td>\n",
       "    </tr>\n",
       "    <tr>\n",
       "      <th>1</th>\n",
       "      <td>Feb</td>\n",
       "      <td>0.75</td>\n",
       "      <td>Winter</td>\n",
       "    </tr>\n",
       "    <tr>\n",
       "      <th>2</th>\n",
       "      <td>Mar</td>\n",
       "      <td>1.85</td>\n",
       "      <td>Spring</td>\n",
       "    </tr>\n",
       "    <tr>\n",
       "      <th>3</th>\n",
       "      <td>Apr</td>\n",
       "      <td>2.93</td>\n",
       "      <td>Spring</td>\n",
       "    </tr>\n",
       "    <tr>\n",
       "      <th>4</th>\n",
       "      <td>May</td>\n",
       "      <td>3.05</td>\n",
       "      <td>Spring</td>\n",
       "    </tr>\n",
       "    <tr>\n",
       "      <th>5</th>\n",
       "      <td>June</td>\n",
       "      <td>2.02</td>\n",
       "      <td>Summer</td>\n",
       "    </tr>\n",
       "    <tr>\n",
       "      <th>6</th>\n",
       "      <td>July</td>\n",
       "      <td>1.93</td>\n",
       "      <td>Summer</td>\n",
       "    </tr>\n",
       "    <tr>\n",
       "      <th>7</th>\n",
       "      <td>Aug</td>\n",
       "      <td>1.62</td>\n",
       "      <td>Summer</td>\n",
       "    </tr>\n",
       "    <tr>\n",
       "      <th>8</th>\n",
       "      <td>Sept</td>\n",
       "      <td>1.84</td>\n",
       "      <td>Fall</td>\n",
       "    </tr>\n",
       "    <tr>\n",
       "      <th>9</th>\n",
       "      <td>Oct</td>\n",
       "      <td>1.31</td>\n",
       "      <td>Fall</td>\n",
       "    </tr>\n",
       "    <tr>\n",
       "      <th>10</th>\n",
       "      <td>Nov</td>\n",
       "      <td>1.39</td>\n",
       "      <td>Fall</td>\n",
       "    </tr>\n",
       "    <tr>\n",
       "      <th>11</th>\n",
       "      <td>Dec</td>\n",
       "      <td>0.84</td>\n",
       "      <td>Winter</td>\n",
       "    </tr>\n",
       "  </tbody>\n",
       "</table>\n",
       "</div>"
      ],
      "text/plain": [
       "   months  precip seasons\n",
       "0     Jan    0.70  Winter\n",
       "1     Feb    0.75  Winter\n",
       "2     Mar    1.85  Spring\n",
       "3     Apr    2.93  Spring\n",
       "4     May    3.05  Spring\n",
       "5    June    2.02  Summer\n",
       "6    July    1.93  Summer\n",
       "7     Aug    1.62  Summer\n",
       "8    Sept    1.84    Fall\n",
       "9     Oct    1.31    Fall\n",
       "10    Nov    1.39    Fall\n",
       "11    Dec    0.84  Winter"
      ]
     },
     "execution_count": 53,
     "metadata": {},
     "output_type": "execute_result"
    }
   ],
   "source": [
    "# print the type for the pandas dataframe\n",
    "print(type(avg_precip))\n",
    "\n",
    "# print the values in the pandas dataframe\n",
    "avg_precip"
   ]
  },
  {
   "cell_type": "markdown",
   "metadata": {},
   "source": [
    "As you can see, the `months` and `precip` data can exist together in the same `pandas dataframe`, which differs from `numpy arrays`. You can see that there is also a column for `seasons` containing text strings. \n",
    "\n",
    "You can also see that the indexing still begins with `[0]`, as it does for `Python` lists and `numpy arrays`. \n",
    "\n",
    "Notice that you did not have to use the `print()` function to see the contents of the `pandas dataframe`, and that it is displayed with clear tabular formatting. "
   ]
  },
  {
   "cell_type": "markdown",
   "metadata": {},
   "source": [
    "Congratulations! You have now learned how to import tabular data from CSV files into `pandas dataframes`."
   ]
  },
  {
   "cell_type": "markdown",
   "metadata": {},
   "source": [
    "## Optional Challenge \n",
    "\n",
    "Test your `Python` skills to:\n",
    "\n",
    "1. Download a .csv file containing the monthly precipitation for Boulder, CO for the years 2002 and 2013 and the month and season names (`precip-2002-2013-months-seasons.csv`)from `https://ndownloader.figshare.com/files/12710621`. \n",
    "    * Be sure to assign a useful variable name that is short but indicative of what it contains (e.g. `precip_2002_2013`).\n",
    "\n",
    "2. Import the data from this .csv file into a `pandas dataframe`. \n",
    "    \n",
    "3. Print the data type of your new `pandas dataframe` as well as its contents."
   ]
  },
  {
   "cell_type": "code",
   "execution_count": 58,
   "metadata": {},
   "outputs": [
    {
     "name": "stdout",
     "output_type": "stream",
     "text": [
      "datasets downloaded successfully\n",
      "<class 'pandas.core.frame.DataFrame'>\n"
     ]
    },
    {
     "data": {
      "text/html": [
       "<div>\n",
       "<style scoped>\n",
       "    .dataframe tbody tr th:only-of-type {\n",
       "        vertical-align: middle;\n",
       "    }\n",
       "\n",
       "    .dataframe tbody tr th {\n",
       "        vertical-align: top;\n",
       "    }\n",
       "\n",
       "    .dataframe thead th {\n",
       "        text-align: right;\n",
       "    }\n",
       "</style>\n",
       "<table border=\"1\" class=\"dataframe\">\n",
       "  <thead>\n",
       "    <tr style=\"text-align: right;\">\n",
       "      <th></th>\n",
       "      <th>months</th>\n",
       "      <th>precip_2002</th>\n",
       "      <th>precip_2013</th>\n",
       "      <th>seasons</th>\n",
       "    </tr>\n",
       "  </thead>\n",
       "  <tbody>\n",
       "    <tr>\n",
       "      <th>0</th>\n",
       "      <td>Jan</td>\n",
       "      <td>1.07</td>\n",
       "      <td>0.27</td>\n",
       "      <td>Winter</td>\n",
       "    </tr>\n",
       "    <tr>\n",
       "      <th>1</th>\n",
       "      <td>Feb</td>\n",
       "      <td>0.44</td>\n",
       "      <td>1.13</td>\n",
       "      <td>Winter</td>\n",
       "    </tr>\n",
       "    <tr>\n",
       "      <th>2</th>\n",
       "      <td>Mar</td>\n",
       "      <td>1.50</td>\n",
       "      <td>1.72</td>\n",
       "      <td>Spring</td>\n",
       "    </tr>\n",
       "    <tr>\n",
       "      <th>3</th>\n",
       "      <td>Apr</td>\n",
       "      <td>0.20</td>\n",
       "      <td>4.14</td>\n",
       "      <td>Spring</td>\n",
       "    </tr>\n",
       "    <tr>\n",
       "      <th>4</th>\n",
       "      <td>May</td>\n",
       "      <td>3.20</td>\n",
       "      <td>2.66</td>\n",
       "      <td>Spring</td>\n",
       "    </tr>\n",
       "    <tr>\n",
       "      <th>5</th>\n",
       "      <td>June</td>\n",
       "      <td>1.18</td>\n",
       "      <td>0.61</td>\n",
       "      <td>Summer</td>\n",
       "    </tr>\n",
       "    <tr>\n",
       "      <th>6</th>\n",
       "      <td>July</td>\n",
       "      <td>0.09</td>\n",
       "      <td>1.03</td>\n",
       "      <td>Summer</td>\n",
       "    </tr>\n",
       "    <tr>\n",
       "      <th>7</th>\n",
       "      <td>Aug</td>\n",
       "      <td>1.44</td>\n",
       "      <td>1.40</td>\n",
       "      <td>Summer</td>\n",
       "    </tr>\n",
       "    <tr>\n",
       "      <th>8</th>\n",
       "      <td>Sept</td>\n",
       "      <td>1.52</td>\n",
       "      <td>18.16</td>\n",
       "      <td>Fall</td>\n",
       "    </tr>\n",
       "    <tr>\n",
       "      <th>9</th>\n",
       "      <td>Oct</td>\n",
       "      <td>2.44</td>\n",
       "      <td>2.24</td>\n",
       "      <td>Fall</td>\n",
       "    </tr>\n",
       "    <tr>\n",
       "      <th>10</th>\n",
       "      <td>Nov</td>\n",
       "      <td>0.78</td>\n",
       "      <td>0.29</td>\n",
       "      <td>Fall</td>\n",
       "    </tr>\n",
       "    <tr>\n",
       "      <th>11</th>\n",
       "      <td>Dec</td>\n",
       "      <td>0.02</td>\n",
       "      <td>0.50</td>\n",
       "      <td>Winter</td>\n",
       "    </tr>\n",
       "  </tbody>\n",
       "</table>\n",
       "</div>"
      ],
      "text/plain": [
       "   months  precip_2002  precip_2013 seasons\n",
       "0     Jan         1.07         0.27  Winter\n",
       "1     Feb         0.44         1.13  Winter\n",
       "2     Mar         1.50         1.72  Spring\n",
       "3     Apr         0.20         4.14  Spring\n",
       "4     May         3.20         2.66  Spring\n",
       "5    June         1.18         0.61  Summer\n",
       "6    July         0.09         1.03  Summer\n",
       "7     Aug         1.44         1.40  Summer\n",
       "8    Sept         1.52        18.16    Fall\n",
       "9     Oct         2.44         2.24    Fall\n",
       "10    Nov         0.78         0.29    Fall\n",
       "11    Dec         0.02         0.50  Winter"
      ]
     },
     "execution_count": 58,
     "metadata": {},
     "output_type": "execute_result"
    }
   ],
   "source": [
    "# Download a .csv file containing the monthly precipitation for Boulder, CO for the years 2002 and 2013 \n",
    "# and the month and season names (precip-2002-2013-months-seasons.csv)from \n",
    "# https://ndownloader.figshare.com/files/12710621.\n",
    "\n",
    "# Be sure to assign a useful variable name that is short but indicative of what it contains (e.g. precip_2002_2013).\n",
    "urllib.request.urlretrieve(url = \"https://ndownloader.figshare.com/files/12710621\", \n",
    "                           filename = \"data/precip-2002-2013-months-seasons.csv\")\n",
    "\n",
    "# print message that data downloads were successful\n",
    "print(\"datasets downloaded successfully\")\n",
    "\n",
    "\n",
    "# Import the data from this .csv file into a pandas dataframe.\n",
    "precip_2002_2013 = pd.read_csv(\"/Users/jenniferbalachowski/earth-analytics-bootcamp/data/precip-2002-2013-months-seasons.csv\")\n",
    "\n",
    "\n",
    "# Print the data type of your new pandas dataframe as well as its contents.\n",
    "print(type(precip_2002_2013))\n",
    "\n",
    "precip_2002_2013\n"
   ]
  }
 ],
 "metadata": {
  "celltoolbar": "Tags",
  "kernelspec": {
   "display_name": "Python 3",
   "language": "python",
   "name": "python3"
  },
  "language_info": {
   "codemirror_mode": {
    "name": "ipython",
    "version": 3
   },
   "file_extension": ".py",
   "mimetype": "text/x-python",
   "name": "python",
   "nbconvert_exporter": "python",
   "pygments_lexer": "ipython3",
   "version": "3.7.3"
  }
 },
 "nbformat": 4,
 "nbformat_minor": 2
}
